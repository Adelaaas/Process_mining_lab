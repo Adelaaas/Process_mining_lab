{
  "nbformat": 4,
  "nbformat_minor": 0,
  "metadata": {
    "colab": {
      "name": "Лабораторная работа Process mining.ipynb",
      "provenance": []
    },
    "kernelspec": {
      "name": "python3",
      "display_name": "Python 3"
    },
    "language_info": {
      "name": "python"
    },
    "widgets": {
      "application/vnd.jupyter.widget-state+json": {
        "b785208d78c34044ad5f2e7fae578f83": {
          "model_module": "@jupyter-widgets/controls",
          "model_name": "HBoxModel",
          "model_module_version": "1.5.0",
          "state": {
            "_dom_classes": [],
            "_model_module": "@jupyter-widgets/controls",
            "_model_module_version": "1.5.0",
            "_model_name": "HBoxModel",
            "_view_count": null,
            "_view_module": "@jupyter-widgets/controls",
            "_view_module_version": "1.5.0",
            "_view_name": "HBoxView",
            "box_style": "",
            "children": [
              "IPY_MODEL_fb24bf47cf494cb7bf56e30ce51bd0f4",
              "IPY_MODEL_f7880ffd9ec4430e8e3ec77f0827b847",
              "IPY_MODEL_5c83075e5bdc4ee4a06b384c427343cd"
            ],
            "layout": "IPY_MODEL_e8b2ccf0df1b4b948e69a3b92c205917"
          }
        },
        "fb24bf47cf494cb7bf56e30ce51bd0f4": {
          "model_module": "@jupyter-widgets/controls",
          "model_name": "HTMLModel",
          "model_module_version": "1.5.0",
          "state": {
            "_dom_classes": [],
            "_model_module": "@jupyter-widgets/controls",
            "_model_module_version": "1.5.0",
            "_model_name": "HTMLModel",
            "_view_count": null,
            "_view_module": "@jupyter-widgets/controls",
            "_view_module_version": "1.5.0",
            "_view_name": "HTMLView",
            "description": "",
            "description_tooltip": null,
            "layout": "IPY_MODEL_2d40203d5c1e4a1ab4605231d0657c6a",
            "placeholder": "​",
            "style": "IPY_MODEL_2cab13b62cdd4dc7b421880cf69ad401",
            "value": "replaying log with TBR, completed variants :: 100%"
          }
        },
        "f7880ffd9ec4430e8e3ec77f0827b847": {
          "model_module": "@jupyter-widgets/controls",
          "model_name": "FloatProgressModel",
          "model_module_version": "1.5.0",
          "state": {
            "_dom_classes": [],
            "_model_module": "@jupyter-widgets/controls",
            "_model_module_version": "1.5.0",
            "_model_name": "FloatProgressModel",
            "_view_count": null,
            "_view_module": "@jupyter-widgets/controls",
            "_view_module_version": "1.5.0",
            "_view_name": "ProgressView",
            "bar_style": "success",
            "description": "",
            "description_tooltip": null,
            "layout": "IPY_MODEL_fad0d55556b64b98b7dce30179127441",
            "max": 15,
            "min": 0,
            "orientation": "horizontal",
            "style": "IPY_MODEL_c032ba384c244e5c844667e6a73b2f2e",
            "value": 15
          }
        },
        "5c83075e5bdc4ee4a06b384c427343cd": {
          "model_module": "@jupyter-widgets/controls",
          "model_name": "HTMLModel",
          "model_module_version": "1.5.0",
          "state": {
            "_dom_classes": [],
            "_model_module": "@jupyter-widgets/controls",
            "_model_module_version": "1.5.0",
            "_model_name": "HTMLModel",
            "_view_count": null,
            "_view_module": "@jupyter-widgets/controls",
            "_view_module_version": "1.5.0",
            "_view_name": "HTMLView",
            "description": "",
            "description_tooltip": null,
            "layout": "IPY_MODEL_4ef4e836bf4d486099cd9f3bbfc7dcb7",
            "placeholder": "​",
            "style": "IPY_MODEL_082447f19c184fce910eab5c20922d1f",
            "value": " 15/15 [00:00&lt;00:00, 129.19it/s]"
          }
        },
        "e8b2ccf0df1b4b948e69a3b92c205917": {
          "model_module": "@jupyter-widgets/base",
          "model_name": "LayoutModel",
          "model_module_version": "1.2.0",
          "state": {
            "_model_module": "@jupyter-widgets/base",
            "_model_module_version": "1.2.0",
            "_model_name": "LayoutModel",
            "_view_count": null,
            "_view_module": "@jupyter-widgets/base",
            "_view_module_version": "1.2.0",
            "_view_name": "LayoutView",
            "align_content": null,
            "align_items": null,
            "align_self": null,
            "border": null,
            "bottom": null,
            "display": null,
            "flex": null,
            "flex_flow": null,
            "grid_area": null,
            "grid_auto_columns": null,
            "grid_auto_flow": null,
            "grid_auto_rows": null,
            "grid_column": null,
            "grid_gap": null,
            "grid_row": null,
            "grid_template_areas": null,
            "grid_template_columns": null,
            "grid_template_rows": null,
            "height": null,
            "justify_content": null,
            "justify_items": null,
            "left": null,
            "margin": null,
            "max_height": null,
            "max_width": null,
            "min_height": null,
            "min_width": null,
            "object_fit": null,
            "object_position": null,
            "order": null,
            "overflow": null,
            "overflow_x": null,
            "overflow_y": null,
            "padding": null,
            "right": null,
            "top": null,
            "visibility": null,
            "width": null
          }
        },
        "2d40203d5c1e4a1ab4605231d0657c6a": {
          "model_module": "@jupyter-widgets/base",
          "model_name": "LayoutModel",
          "model_module_version": "1.2.0",
          "state": {
            "_model_module": "@jupyter-widgets/base",
            "_model_module_version": "1.2.0",
            "_model_name": "LayoutModel",
            "_view_count": null,
            "_view_module": "@jupyter-widgets/base",
            "_view_module_version": "1.2.0",
            "_view_name": "LayoutView",
            "align_content": null,
            "align_items": null,
            "align_self": null,
            "border": null,
            "bottom": null,
            "display": null,
            "flex": null,
            "flex_flow": null,
            "grid_area": null,
            "grid_auto_columns": null,
            "grid_auto_flow": null,
            "grid_auto_rows": null,
            "grid_column": null,
            "grid_gap": null,
            "grid_row": null,
            "grid_template_areas": null,
            "grid_template_columns": null,
            "grid_template_rows": null,
            "height": null,
            "justify_content": null,
            "justify_items": null,
            "left": null,
            "margin": null,
            "max_height": null,
            "max_width": null,
            "min_height": null,
            "min_width": null,
            "object_fit": null,
            "object_position": null,
            "order": null,
            "overflow": null,
            "overflow_x": null,
            "overflow_y": null,
            "padding": null,
            "right": null,
            "top": null,
            "visibility": null,
            "width": null
          }
        },
        "2cab13b62cdd4dc7b421880cf69ad401": {
          "model_module": "@jupyter-widgets/controls",
          "model_name": "DescriptionStyleModel",
          "model_module_version": "1.5.0",
          "state": {
            "_model_module": "@jupyter-widgets/controls",
            "_model_module_version": "1.5.0",
            "_model_name": "DescriptionStyleModel",
            "_view_count": null,
            "_view_module": "@jupyter-widgets/base",
            "_view_module_version": "1.2.0",
            "_view_name": "StyleView",
            "description_width": ""
          }
        },
        "fad0d55556b64b98b7dce30179127441": {
          "model_module": "@jupyter-widgets/base",
          "model_name": "LayoutModel",
          "model_module_version": "1.2.0",
          "state": {
            "_model_module": "@jupyter-widgets/base",
            "_model_module_version": "1.2.0",
            "_model_name": "LayoutModel",
            "_view_count": null,
            "_view_module": "@jupyter-widgets/base",
            "_view_module_version": "1.2.0",
            "_view_name": "LayoutView",
            "align_content": null,
            "align_items": null,
            "align_self": null,
            "border": null,
            "bottom": null,
            "display": null,
            "flex": null,
            "flex_flow": null,
            "grid_area": null,
            "grid_auto_columns": null,
            "grid_auto_flow": null,
            "grid_auto_rows": null,
            "grid_column": null,
            "grid_gap": null,
            "grid_row": null,
            "grid_template_areas": null,
            "grid_template_columns": null,
            "grid_template_rows": null,
            "height": null,
            "justify_content": null,
            "justify_items": null,
            "left": null,
            "margin": null,
            "max_height": null,
            "max_width": null,
            "min_height": null,
            "min_width": null,
            "object_fit": null,
            "object_position": null,
            "order": null,
            "overflow": null,
            "overflow_x": null,
            "overflow_y": null,
            "padding": null,
            "right": null,
            "top": null,
            "visibility": null,
            "width": null
          }
        },
        "c032ba384c244e5c844667e6a73b2f2e": {
          "model_module": "@jupyter-widgets/controls",
          "model_name": "ProgressStyleModel",
          "model_module_version": "1.5.0",
          "state": {
            "_model_module": "@jupyter-widgets/controls",
            "_model_module_version": "1.5.0",
            "_model_name": "ProgressStyleModel",
            "_view_count": null,
            "_view_module": "@jupyter-widgets/base",
            "_view_module_version": "1.2.0",
            "_view_name": "StyleView",
            "bar_color": null,
            "description_width": ""
          }
        },
        "4ef4e836bf4d486099cd9f3bbfc7dcb7": {
          "model_module": "@jupyter-widgets/base",
          "model_name": "LayoutModel",
          "model_module_version": "1.2.0",
          "state": {
            "_model_module": "@jupyter-widgets/base",
            "_model_module_version": "1.2.0",
            "_model_name": "LayoutModel",
            "_view_count": null,
            "_view_module": "@jupyter-widgets/base",
            "_view_module_version": "1.2.0",
            "_view_name": "LayoutView",
            "align_content": null,
            "align_items": null,
            "align_self": null,
            "border": null,
            "bottom": null,
            "display": null,
            "flex": null,
            "flex_flow": null,
            "grid_area": null,
            "grid_auto_columns": null,
            "grid_auto_flow": null,
            "grid_auto_rows": null,
            "grid_column": null,
            "grid_gap": null,
            "grid_row": null,
            "grid_template_areas": null,
            "grid_template_columns": null,
            "grid_template_rows": null,
            "height": null,
            "justify_content": null,
            "justify_items": null,
            "left": null,
            "margin": null,
            "max_height": null,
            "max_width": null,
            "min_height": null,
            "min_width": null,
            "object_fit": null,
            "object_position": null,
            "order": null,
            "overflow": null,
            "overflow_x": null,
            "overflow_y": null,
            "padding": null,
            "right": null,
            "top": null,
            "visibility": null,
            "width": null
          }
        },
        "082447f19c184fce910eab5c20922d1f": {
          "model_module": "@jupyter-widgets/controls",
          "model_name": "DescriptionStyleModel",
          "model_module_version": "1.5.0",
          "state": {
            "_model_module": "@jupyter-widgets/controls",
            "_model_module_version": "1.5.0",
            "_model_name": "DescriptionStyleModel",
            "_view_count": null,
            "_view_module": "@jupyter-widgets/base",
            "_view_module_version": "1.2.0",
            "_view_name": "StyleView",
            "description_width": ""
          }
        },
        "43bef6e435af4366993f0d6f2c3bf475": {
          "model_module": "@jupyter-widgets/controls",
          "model_name": "HBoxModel",
          "model_module_version": "1.5.0",
          "state": {
            "_dom_classes": [],
            "_model_module": "@jupyter-widgets/controls",
            "_model_module_version": "1.5.0",
            "_model_name": "HBoxModel",
            "_view_count": null,
            "_view_module": "@jupyter-widgets/controls",
            "_view_module_version": "1.5.0",
            "_view_name": "HBoxView",
            "box_style": "",
            "children": [
              "IPY_MODEL_65e6dd08eb9c4d2b9a94e91775063ee7",
              "IPY_MODEL_75a04c66a5f543f8a27204cb388b1322",
              "IPY_MODEL_93745c8f5dd148f7abcc06c7153fca8f"
            ],
            "layout": "IPY_MODEL_fae1ee7df10743b7b30d9f02ebc32f82"
          }
        },
        "65e6dd08eb9c4d2b9a94e91775063ee7": {
          "model_module": "@jupyter-widgets/controls",
          "model_name": "HTMLModel",
          "model_module_version": "1.5.0",
          "state": {
            "_dom_classes": [],
            "_model_module": "@jupyter-widgets/controls",
            "_model_module_version": "1.5.0",
            "_model_name": "HTMLModel",
            "_view_count": null,
            "_view_module": "@jupyter-widgets/controls",
            "_view_module_version": "1.5.0",
            "_view_name": "HTMLView",
            "description": "",
            "description_tooltip": null,
            "layout": "IPY_MODEL_3d2cbc17ddae4183870e98453063a924",
            "placeholder": "​",
            "style": "IPY_MODEL_c40e2de9c9254c02856c9bf3e32424e0",
            "value": "replaying log with TBR, completed variants :: 100%"
          }
        },
        "75a04c66a5f543f8a27204cb388b1322": {
          "model_module": "@jupyter-widgets/controls",
          "model_name": "FloatProgressModel",
          "model_module_version": "1.5.0",
          "state": {
            "_dom_classes": [],
            "_model_module": "@jupyter-widgets/controls",
            "_model_module_version": "1.5.0",
            "_model_name": "FloatProgressModel",
            "_view_count": null,
            "_view_module": "@jupyter-widgets/controls",
            "_view_module_version": "1.5.0",
            "_view_name": "ProgressView",
            "bar_style": "success",
            "description": "",
            "description_tooltip": null,
            "layout": "IPY_MODEL_010ef7b4b0184bd997af6561f116b19a",
            "max": 15,
            "min": 0,
            "orientation": "horizontal",
            "style": "IPY_MODEL_ffec9d10b06c4d0e8a3855c1c8eacc2c",
            "value": 15
          }
        },
        "93745c8f5dd148f7abcc06c7153fca8f": {
          "model_module": "@jupyter-widgets/controls",
          "model_name": "HTMLModel",
          "model_module_version": "1.5.0",
          "state": {
            "_dom_classes": [],
            "_model_module": "@jupyter-widgets/controls",
            "_model_module_version": "1.5.0",
            "_model_name": "HTMLModel",
            "_view_count": null,
            "_view_module": "@jupyter-widgets/controls",
            "_view_module_version": "1.5.0",
            "_view_name": "HTMLView",
            "description": "",
            "description_tooltip": null,
            "layout": "IPY_MODEL_63ec047900f14874b31a4692304f33b1",
            "placeholder": "​",
            "style": "IPY_MODEL_103a57b2b636480fb3c7730f10e4b1a8",
            "value": " 15/15 [00:00&lt;00:00,  7.84it/s]"
          }
        },
        "fae1ee7df10743b7b30d9f02ebc32f82": {
          "model_module": "@jupyter-widgets/base",
          "model_name": "LayoutModel",
          "model_module_version": "1.2.0",
          "state": {
            "_model_module": "@jupyter-widgets/base",
            "_model_module_version": "1.2.0",
            "_model_name": "LayoutModel",
            "_view_count": null,
            "_view_module": "@jupyter-widgets/base",
            "_view_module_version": "1.2.0",
            "_view_name": "LayoutView",
            "align_content": null,
            "align_items": null,
            "align_self": null,
            "border": null,
            "bottom": null,
            "display": null,
            "flex": null,
            "flex_flow": null,
            "grid_area": null,
            "grid_auto_columns": null,
            "grid_auto_flow": null,
            "grid_auto_rows": null,
            "grid_column": null,
            "grid_gap": null,
            "grid_row": null,
            "grid_template_areas": null,
            "grid_template_columns": null,
            "grid_template_rows": null,
            "height": null,
            "justify_content": null,
            "justify_items": null,
            "left": null,
            "margin": null,
            "max_height": null,
            "max_width": null,
            "min_height": null,
            "min_width": null,
            "object_fit": null,
            "object_position": null,
            "order": null,
            "overflow": null,
            "overflow_x": null,
            "overflow_y": null,
            "padding": null,
            "right": null,
            "top": null,
            "visibility": null,
            "width": null
          }
        },
        "3d2cbc17ddae4183870e98453063a924": {
          "model_module": "@jupyter-widgets/base",
          "model_name": "LayoutModel",
          "model_module_version": "1.2.0",
          "state": {
            "_model_module": "@jupyter-widgets/base",
            "_model_module_version": "1.2.0",
            "_model_name": "LayoutModel",
            "_view_count": null,
            "_view_module": "@jupyter-widgets/base",
            "_view_module_version": "1.2.0",
            "_view_name": "LayoutView",
            "align_content": null,
            "align_items": null,
            "align_self": null,
            "border": null,
            "bottom": null,
            "display": null,
            "flex": null,
            "flex_flow": null,
            "grid_area": null,
            "grid_auto_columns": null,
            "grid_auto_flow": null,
            "grid_auto_rows": null,
            "grid_column": null,
            "grid_gap": null,
            "grid_row": null,
            "grid_template_areas": null,
            "grid_template_columns": null,
            "grid_template_rows": null,
            "height": null,
            "justify_content": null,
            "justify_items": null,
            "left": null,
            "margin": null,
            "max_height": null,
            "max_width": null,
            "min_height": null,
            "min_width": null,
            "object_fit": null,
            "object_position": null,
            "order": null,
            "overflow": null,
            "overflow_x": null,
            "overflow_y": null,
            "padding": null,
            "right": null,
            "top": null,
            "visibility": null,
            "width": null
          }
        },
        "c40e2de9c9254c02856c9bf3e32424e0": {
          "model_module": "@jupyter-widgets/controls",
          "model_name": "DescriptionStyleModel",
          "model_module_version": "1.5.0",
          "state": {
            "_model_module": "@jupyter-widgets/controls",
            "_model_module_version": "1.5.0",
            "_model_name": "DescriptionStyleModel",
            "_view_count": null,
            "_view_module": "@jupyter-widgets/base",
            "_view_module_version": "1.2.0",
            "_view_name": "StyleView",
            "description_width": ""
          }
        },
        "010ef7b4b0184bd997af6561f116b19a": {
          "model_module": "@jupyter-widgets/base",
          "model_name": "LayoutModel",
          "model_module_version": "1.2.0",
          "state": {
            "_model_module": "@jupyter-widgets/base",
            "_model_module_version": "1.2.0",
            "_model_name": "LayoutModel",
            "_view_count": null,
            "_view_module": "@jupyter-widgets/base",
            "_view_module_version": "1.2.0",
            "_view_name": "LayoutView",
            "align_content": null,
            "align_items": null,
            "align_self": null,
            "border": null,
            "bottom": null,
            "display": null,
            "flex": null,
            "flex_flow": null,
            "grid_area": null,
            "grid_auto_columns": null,
            "grid_auto_flow": null,
            "grid_auto_rows": null,
            "grid_column": null,
            "grid_gap": null,
            "grid_row": null,
            "grid_template_areas": null,
            "grid_template_columns": null,
            "grid_template_rows": null,
            "height": null,
            "justify_content": null,
            "justify_items": null,
            "left": null,
            "margin": null,
            "max_height": null,
            "max_width": null,
            "min_height": null,
            "min_width": null,
            "object_fit": null,
            "object_position": null,
            "order": null,
            "overflow": null,
            "overflow_x": null,
            "overflow_y": null,
            "padding": null,
            "right": null,
            "top": null,
            "visibility": null,
            "width": null
          }
        },
        "ffec9d10b06c4d0e8a3855c1c8eacc2c": {
          "model_module": "@jupyter-widgets/controls",
          "model_name": "ProgressStyleModel",
          "model_module_version": "1.5.0",
          "state": {
            "_model_module": "@jupyter-widgets/controls",
            "_model_module_version": "1.5.0",
            "_model_name": "ProgressStyleModel",
            "_view_count": null,
            "_view_module": "@jupyter-widgets/base",
            "_view_module_version": "1.2.0",
            "_view_name": "StyleView",
            "bar_color": null,
            "description_width": ""
          }
        },
        "63ec047900f14874b31a4692304f33b1": {
          "model_module": "@jupyter-widgets/base",
          "model_name": "LayoutModel",
          "model_module_version": "1.2.0",
          "state": {
            "_model_module": "@jupyter-widgets/base",
            "_model_module_version": "1.2.0",
            "_model_name": "LayoutModel",
            "_view_count": null,
            "_view_module": "@jupyter-widgets/base",
            "_view_module_version": "1.2.0",
            "_view_name": "LayoutView",
            "align_content": null,
            "align_items": null,
            "align_self": null,
            "border": null,
            "bottom": null,
            "display": null,
            "flex": null,
            "flex_flow": null,
            "grid_area": null,
            "grid_auto_columns": null,
            "grid_auto_flow": null,
            "grid_auto_rows": null,
            "grid_column": null,
            "grid_gap": null,
            "grid_row": null,
            "grid_template_areas": null,
            "grid_template_columns": null,
            "grid_template_rows": null,
            "height": null,
            "justify_content": null,
            "justify_items": null,
            "left": null,
            "margin": null,
            "max_height": null,
            "max_width": null,
            "min_height": null,
            "min_width": null,
            "object_fit": null,
            "object_position": null,
            "order": null,
            "overflow": null,
            "overflow_x": null,
            "overflow_y": null,
            "padding": null,
            "right": null,
            "top": null,
            "visibility": null,
            "width": null
          }
        },
        "103a57b2b636480fb3c7730f10e4b1a8": {
          "model_module": "@jupyter-widgets/controls",
          "model_name": "DescriptionStyleModel",
          "model_module_version": "1.5.0",
          "state": {
            "_model_module": "@jupyter-widgets/controls",
            "_model_module_version": "1.5.0",
            "_model_name": "DescriptionStyleModel",
            "_view_count": null,
            "_view_module": "@jupyter-widgets/base",
            "_view_module_version": "1.2.0",
            "_view_name": "StyleView",
            "description_width": ""
          }
        }
      }
    }
  },
  "cells": [
    {
      "cell_type": "markdown",
      "source": [
        "# Лабораторная работа. Применение алгоритмов Process mining для анализа журналов событий"
      ],
      "metadata": {
        "id": "rkbe5FDS2qBd"
      }
    },
    {
      "cell_type": "markdown",
      "source": [
        "**Цель:** изучение алгоритмов Process mining для анализа журналов событий и поиска \"узких мест\" в системе по журналу.\n",
        "\n",
        "Для выполнения работы используются язык **Python** и библиотеки **PM4PY**, **Pandas**.\n",
        "\n",
        "**Данные:**"
      ],
      "metadata": {
        "id": "p9d_Yxfm2t2l"
      }
    },
    {
      "cell_type": "markdown",
      "source": [
        "## Начало работы. Чтение журнала событий"
      ],
      "metadata": {
        "id": "AclfnpUNP0tZ"
      }
    },
    {
      "cell_type": "markdown",
      "source": [
        "Библиотека **pm4py** работает как с форматами данных CSV (стандарт файлов для Pandas), так и с форматами XES — это стандартный формат, используемый для хранения журналов событий.\n",
        "\n",
        "Два соответствующих форматов в модуле есть два метода:\n",
        "- **converter** из `pm4py.objects.conversion.log` (здесь псевдоним log_converter), который преобразует стандартные фреймы данных pandas в журналы событий; \n",
        "- **importer** из `pm4py.objects.log.importer.xes` (здесь псевдоним xes_importer), который импортирует журналы. в формате XES.\n",
        "\n",
        "Для того, чтобы считать файл в формате .csv для дальнейшей работы, сначала необходимо его импортировать с помощью библиотеки pandas в DataFrame. Далее с помощью метода библиотеки `pm4py.objects.conversion.log.converter` преобразуем его в журнал событий.\n"
      ],
      "metadata": {
        "id": "8BPcv5GUP7JC"
      }
    },
    {
      "cell_type": "code",
      "source": [
        "# Установка библиотеки для Process mining\n",
        "!pip install pm4py"
      ],
      "metadata": {
        "id": "t6fMMWppQnmu"
      },
      "execution_count": null,
      "outputs": []
    },
    {
      "cell_type": "code",
      "execution_count": 3,
      "metadata": {
        "id": "9Dd4_xQbVOZS"
      },
      "outputs": [],
      "source": [
        "# Импортируем необходимые библиотеки\n",
        "import pandas as pd\n",
        "from pm4py.objects.conversion.log import converter as log_converter\n",
        "from pm4py.objects.log.importer.xes import importer as xes_importer"
      ]
    },
    {
      "cell_type": "code",
      "source": [
        "# Считывание файла в формате .xes\n",
        "log = xes_importer.apply('<path_to_xes_file.xes>')"
      ],
      "metadata": {
        "id": "UrOIE7z4WjcF"
      },
      "execution_count": null,
      "outputs": []
    },
    {
      "cell_type": "code",
      "source": [
        "# Считывание файла в формате .csv\n",
        "\n",
        "# 1. Считываем сначала наши данные с помощью библиотеки Pandas в DataFrame\n",
        "log_csv = pd.read_csv('ArtificialPatientTreatment.csv')\n",
        "\n",
        "log_csv"
      ],
      "metadata": {
        "id": "GMx_unufWogI",
        "colab": {
          "base_uri": "https://localhost:8080/",
          "height": 423
        },
        "outputId": "e4a7afa6-0a32-4a02-cd0c-2f62f2674a10"
      },
      "execution_count": 7,
      "outputs": [
        {
          "output_type": "execute_result",
          "data": {
            "text/plain": [
              "        patient           action  org:resource              DateTime\n",
              "0     patient 0    First consult      Dr. Anna   2017-01-02 11:40:11\n",
              "1     patient 0       Blood test           Lab   2017-01-02 12:47:33\n",
              "2     patient 0    Physical test   Nurse Jesse   2017-01-02 12:53:50\n",
              "3     patient 0   Second consult      Dr. Anna   2017-01-02 16:21:06\n",
              "4     patient 0          Surgery   Dr. Charlie   2017-01-05 13:23:09\n",
              "..          ...              ...           ...                   ...\n",
              "685  patient 99       X-ray scan        Team 2   2017-05-25 11:03:27\n",
              "686  patient 99    Physical test   Nurse Corey   2017-05-25 11:55:24\n",
              "687  patient 99   Second consult      Dr. Anna   2017-05-29 15:12:39\n",
              "688  patient 99         Medicine      Pharmacy   2017-05-29 16:17:13\n",
              "689  patient 99    Final consult      Dr. Anna   2017-05-31 12:46:43\n",
              "\n",
              "[690 rows x 4 columns]"
            ],
            "text/html": [
              "\n",
              "  <div id=\"df-a3953ea7-51d0-4e7f-9454-28ec1d8c5861\">\n",
              "    <div class=\"colab-df-container\">\n",
              "      <div>\n",
              "<style scoped>\n",
              "    .dataframe tbody tr th:only-of-type {\n",
              "        vertical-align: middle;\n",
              "    }\n",
              "\n",
              "    .dataframe tbody tr th {\n",
              "        vertical-align: top;\n",
              "    }\n",
              "\n",
              "    .dataframe thead th {\n",
              "        text-align: right;\n",
              "    }\n",
              "</style>\n",
              "<table border=\"1\" class=\"dataframe\">\n",
              "  <thead>\n",
              "    <tr style=\"text-align: right;\">\n",
              "      <th></th>\n",
              "      <th>patient</th>\n",
              "      <th>action</th>\n",
              "      <th>org:resource</th>\n",
              "      <th>DateTime</th>\n",
              "    </tr>\n",
              "  </thead>\n",
              "  <tbody>\n",
              "    <tr>\n",
              "      <th>0</th>\n",
              "      <td>patient 0</td>\n",
              "      <td>First consult</td>\n",
              "      <td>Dr. Anna</td>\n",
              "      <td>2017-01-02 11:40:11</td>\n",
              "    </tr>\n",
              "    <tr>\n",
              "      <th>1</th>\n",
              "      <td>patient 0</td>\n",
              "      <td>Blood test</td>\n",
              "      <td>Lab</td>\n",
              "      <td>2017-01-02 12:47:33</td>\n",
              "    </tr>\n",
              "    <tr>\n",
              "      <th>2</th>\n",
              "      <td>patient 0</td>\n",
              "      <td>Physical test</td>\n",
              "      <td>Nurse Jesse</td>\n",
              "      <td>2017-01-02 12:53:50</td>\n",
              "    </tr>\n",
              "    <tr>\n",
              "      <th>3</th>\n",
              "      <td>patient 0</td>\n",
              "      <td>Second consult</td>\n",
              "      <td>Dr. Anna</td>\n",
              "      <td>2017-01-02 16:21:06</td>\n",
              "    </tr>\n",
              "    <tr>\n",
              "      <th>4</th>\n",
              "      <td>patient 0</td>\n",
              "      <td>Surgery</td>\n",
              "      <td>Dr. Charlie</td>\n",
              "      <td>2017-01-05 13:23:09</td>\n",
              "    </tr>\n",
              "    <tr>\n",
              "      <th>...</th>\n",
              "      <td>...</td>\n",
              "      <td>...</td>\n",
              "      <td>...</td>\n",
              "      <td>...</td>\n",
              "    </tr>\n",
              "    <tr>\n",
              "      <th>685</th>\n",
              "      <td>patient 99</td>\n",
              "      <td>X-ray scan</td>\n",
              "      <td>Team 2</td>\n",
              "      <td>2017-05-25 11:03:27</td>\n",
              "    </tr>\n",
              "    <tr>\n",
              "      <th>686</th>\n",
              "      <td>patient 99</td>\n",
              "      <td>Physical test</td>\n",
              "      <td>Nurse Corey</td>\n",
              "      <td>2017-05-25 11:55:24</td>\n",
              "    </tr>\n",
              "    <tr>\n",
              "      <th>687</th>\n",
              "      <td>patient 99</td>\n",
              "      <td>Second consult</td>\n",
              "      <td>Dr. Anna</td>\n",
              "      <td>2017-05-29 15:12:39</td>\n",
              "    </tr>\n",
              "    <tr>\n",
              "      <th>688</th>\n",
              "      <td>patient 99</td>\n",
              "      <td>Medicine</td>\n",
              "      <td>Pharmacy</td>\n",
              "      <td>2017-05-29 16:17:13</td>\n",
              "    </tr>\n",
              "    <tr>\n",
              "      <th>689</th>\n",
              "      <td>patient 99</td>\n",
              "      <td>Final consult</td>\n",
              "      <td>Dr. Anna</td>\n",
              "      <td>2017-05-31 12:46:43</td>\n",
              "    </tr>\n",
              "  </tbody>\n",
              "</table>\n",
              "<p>690 rows × 4 columns</p>\n",
              "</div>\n",
              "      <button class=\"colab-df-convert\" onclick=\"convertToInteractive('df-a3953ea7-51d0-4e7f-9454-28ec1d8c5861')\"\n",
              "              title=\"Convert this dataframe to an interactive table.\"\n",
              "              style=\"display:none;\">\n",
              "        \n",
              "  <svg xmlns=\"http://www.w3.org/2000/svg\" height=\"24px\"viewBox=\"0 0 24 24\"\n",
              "       width=\"24px\">\n",
              "    <path d=\"M0 0h24v24H0V0z\" fill=\"none\"/>\n",
              "    <path d=\"M18.56 5.44l.94 2.06.94-2.06 2.06-.94-2.06-.94-.94-2.06-.94 2.06-2.06.94zm-11 1L8.5 8.5l.94-2.06 2.06-.94-2.06-.94L8.5 2.5l-.94 2.06-2.06.94zm10 10l.94 2.06.94-2.06 2.06-.94-2.06-.94-.94-2.06-.94 2.06-2.06.94z\"/><path d=\"M17.41 7.96l-1.37-1.37c-.4-.4-.92-.59-1.43-.59-.52 0-1.04.2-1.43.59L10.3 9.45l-7.72 7.72c-.78.78-.78 2.05 0 2.83L4 21.41c.39.39.9.59 1.41.59.51 0 1.02-.2 1.41-.59l7.78-7.78 2.81-2.81c.8-.78.8-2.07 0-2.86zM5.41 20L4 18.59l7.72-7.72 1.47 1.35L5.41 20z\"/>\n",
              "  </svg>\n",
              "      </button>\n",
              "      \n",
              "  <style>\n",
              "    .colab-df-container {\n",
              "      display:flex;\n",
              "      flex-wrap:wrap;\n",
              "      gap: 12px;\n",
              "    }\n",
              "\n",
              "    .colab-df-convert {\n",
              "      background-color: #E8F0FE;\n",
              "      border: none;\n",
              "      border-radius: 50%;\n",
              "      cursor: pointer;\n",
              "      display: none;\n",
              "      fill: #1967D2;\n",
              "      height: 32px;\n",
              "      padding: 0 0 0 0;\n",
              "      width: 32px;\n",
              "    }\n",
              "\n",
              "    .colab-df-convert:hover {\n",
              "      background-color: #E2EBFA;\n",
              "      box-shadow: 0px 1px 2px rgba(60, 64, 67, 0.3), 0px 1px 3px 1px rgba(60, 64, 67, 0.15);\n",
              "      fill: #174EA6;\n",
              "    }\n",
              "\n",
              "    [theme=dark] .colab-df-convert {\n",
              "      background-color: #3B4455;\n",
              "      fill: #D2E3FC;\n",
              "    }\n",
              "\n",
              "    [theme=dark] .colab-df-convert:hover {\n",
              "      background-color: #434B5C;\n",
              "      box-shadow: 0px 1px 3px 1px rgba(0, 0, 0, 0.15);\n",
              "      filter: drop-shadow(0px 1px 2px rgba(0, 0, 0, 0.3));\n",
              "      fill: #FFFFFF;\n",
              "    }\n",
              "  </style>\n",
              "\n",
              "      <script>\n",
              "        const buttonEl =\n",
              "          document.querySelector('#df-a3953ea7-51d0-4e7f-9454-28ec1d8c5861 button.colab-df-convert');\n",
              "        buttonEl.style.display =\n",
              "          google.colab.kernel.accessAllowed ? 'block' : 'none';\n",
              "\n",
              "        async function convertToInteractive(key) {\n",
              "          const element = document.querySelector('#df-a3953ea7-51d0-4e7f-9454-28ec1d8c5861');\n",
              "          const dataTable =\n",
              "            await google.colab.kernel.invokeFunction('convertToInteractive',\n",
              "                                                     [key], {});\n",
              "          if (!dataTable) return;\n",
              "\n",
              "          const docLinkHtml = 'Like what you see? Visit the ' +\n",
              "            '<a target=\"_blank\" href=https://colab.research.google.com/notebooks/data_table.ipynb>data table notebook</a>'\n",
              "            + ' to learn more about interactive tables.';\n",
              "          element.innerHTML = '';\n",
              "          dataTable['output_type'] = 'display_data';\n",
              "          await google.colab.output.renderOutput(dataTable, element);\n",
              "          const docLink = document.createElement('div');\n",
              "          docLink.innerHTML = docLinkHtml;\n",
              "          element.appendChild(docLink);\n",
              "        }\n",
              "      </script>\n",
              "    </div>\n",
              "  </div>\n",
              "  "
            ]
          },
          "metadata": {},
          "execution_count": 7
        }
      ]
    },
    {
      "cell_type": "markdown",
      "source": [
        "**Перед началом работы с любым набором данных, необходимо сначала его изучить:**\n",
        "- названия колонок\n",
        "- типы данных\n",
        "- пропущенные значения\n",
        "- и другое"
      ],
      "metadata": {
        "id": "FJEAQ3yqXrHZ"
      }
    },
    {
      "cell_type": "code",
      "source": [
        "log_csv.columns"
      ],
      "metadata": {
        "colab": {
          "base_uri": "https://localhost:8080/",
          "height": 0
        },
        "id": "KWxJ84hNXPPp",
        "outputId": "ab8c3b52-b0b2-4646-89e5-4dbd2d2dda21"
      },
      "execution_count": 8,
      "outputs": [
        {
          "output_type": "execute_result",
          "data": {
            "text/plain": [
              "Index(['patient', ' action', ' org:resource', ' DateTime'], dtype='object')"
            ]
          },
          "metadata": {},
          "execution_count": 8
        }
      ]
    },
    {
      "cell_type": "code",
      "source": [
        "# Преобразуем тип данных в колонке DateTime в специальных формат даты и времени библиотеки Pandas\n",
        "log_csv[' DateTime'] = pd.to_datetime(log_csv[' DateTime'])\n",
        "\n",
        "log_csv.info()"
      ],
      "metadata": {
        "colab": {
          "base_uri": "https://localhost:8080/",
          "height": 0
        },
        "id": "sl2YM-0TW1vx",
        "outputId": "ce5cbe4d-d327-4e58-8036-7a9284deac4b"
      },
      "execution_count": 9,
      "outputs": [
        {
          "output_type": "stream",
          "name": "stdout",
          "text": [
            "<class 'pandas.core.frame.DataFrame'>\n",
            "RangeIndex: 690 entries, 0 to 689\n",
            "Data columns (total 4 columns):\n",
            " #   Column         Non-Null Count  Dtype         \n",
            "---  ------         --------------  -----         \n",
            " 0   patient        690 non-null    object        \n",
            " 1    action        690 non-null    object        \n",
            " 2    org:resource  690 non-null    object        \n",
            " 3    DateTime      690 non-null    datetime64[ns]\n",
            "dtypes: datetime64[ns](1), object(3)\n",
            "memory usage: 21.7+ KB\n"
          ]
        }
      ]
    },
    {
      "cell_type": "markdown",
      "source": [
        "**Для работы с журналом событий Process mining определяет основные атрибуты событий в журналах:**\n",
        "\n",
        "- **Идентификатор случая (case id):** хранит случаи (объекты), для которых выстраиваются последовательности событий журнала.\n",
        "- **Деятельность (activity name):** хранит действия, выполняемые в рамках событий журнала.\n",
        "- **Отметка времени (timestamp):** хранит дату и время регистрации событий журнала.\n",
        "- **Ресурс (resource):** хранит основных действующих лиц событий журнала (тех, кто выполняет действия в рамках событий журнала).\n",
        "- **Прочее (other data):** сюда попадает вся оставшаяся в журнале (не интересная нам) информация. \n",
        "\n",
        "В данной задаче за Case id обозначаем отдельного пациента, а за activity name обозначаем все действия пациентов."
      ],
      "metadata": {
        "id": "M15CIfM637Bm"
      }
    },
    {
      "cell_type": "code",
      "source": [
        "# 2. Переименуем колонки в соответсвии с требованиями Process mining\n",
        "log_csv.rename(columns=\n",
        "                {' DateTime': 'time:timestamp',\n",
        "                 'patient': 'case:concept:name',\n",
        "                 ' action': 'concept:name',\n",
        "                 ' org:resource': 'org:resource'},\n",
        "                inplace=True)\n",
        "\n",
        "log_csv"
      ],
      "metadata": {
        "colab": {
          "base_uri": "https://localhost:8080/",
          "height": 423
        },
        "id": "m_Ycoa0cRa2c",
        "outputId": "3e988078-808b-45ee-c118-0f9b5fb6a995"
      },
      "execution_count": 10,
      "outputs": [
        {
          "output_type": "execute_result",
          "data": {
            "text/plain": [
              "    case:concept:name     concept:name  org:resource      time:timestamp\n",
              "0           patient 0    First consult      Dr. Anna 2017-01-02 11:40:11\n",
              "1           patient 0       Blood test           Lab 2017-01-02 12:47:33\n",
              "2           patient 0    Physical test   Nurse Jesse 2017-01-02 12:53:50\n",
              "3           patient 0   Second consult      Dr. Anna 2017-01-02 16:21:06\n",
              "4           patient 0          Surgery   Dr. Charlie 2017-01-05 13:23:09\n",
              "..                ...              ...           ...                 ...\n",
              "685        patient 99       X-ray scan        Team 2 2017-05-25 11:03:27\n",
              "686        patient 99    Physical test   Nurse Corey 2017-05-25 11:55:24\n",
              "687        patient 99   Second consult      Dr. Anna 2017-05-29 15:12:39\n",
              "688        patient 99         Medicine      Pharmacy 2017-05-29 16:17:13\n",
              "689        patient 99    Final consult      Dr. Anna 2017-05-31 12:46:43\n",
              "\n",
              "[690 rows x 4 columns]"
            ],
            "text/html": [
              "\n",
              "  <div id=\"df-fe8ac3f7-216e-4cd2-b058-226bfd8d399b\">\n",
              "    <div class=\"colab-df-container\">\n",
              "      <div>\n",
              "<style scoped>\n",
              "    .dataframe tbody tr th:only-of-type {\n",
              "        vertical-align: middle;\n",
              "    }\n",
              "\n",
              "    .dataframe tbody tr th {\n",
              "        vertical-align: top;\n",
              "    }\n",
              "\n",
              "    .dataframe thead th {\n",
              "        text-align: right;\n",
              "    }\n",
              "</style>\n",
              "<table border=\"1\" class=\"dataframe\">\n",
              "  <thead>\n",
              "    <tr style=\"text-align: right;\">\n",
              "      <th></th>\n",
              "      <th>case:concept:name</th>\n",
              "      <th>concept:name</th>\n",
              "      <th>org:resource</th>\n",
              "      <th>time:timestamp</th>\n",
              "    </tr>\n",
              "  </thead>\n",
              "  <tbody>\n",
              "    <tr>\n",
              "      <th>0</th>\n",
              "      <td>patient 0</td>\n",
              "      <td>First consult</td>\n",
              "      <td>Dr. Anna</td>\n",
              "      <td>2017-01-02 11:40:11</td>\n",
              "    </tr>\n",
              "    <tr>\n",
              "      <th>1</th>\n",
              "      <td>patient 0</td>\n",
              "      <td>Blood test</td>\n",
              "      <td>Lab</td>\n",
              "      <td>2017-01-02 12:47:33</td>\n",
              "    </tr>\n",
              "    <tr>\n",
              "      <th>2</th>\n",
              "      <td>patient 0</td>\n",
              "      <td>Physical test</td>\n",
              "      <td>Nurse Jesse</td>\n",
              "      <td>2017-01-02 12:53:50</td>\n",
              "    </tr>\n",
              "    <tr>\n",
              "      <th>3</th>\n",
              "      <td>patient 0</td>\n",
              "      <td>Second consult</td>\n",
              "      <td>Dr. Anna</td>\n",
              "      <td>2017-01-02 16:21:06</td>\n",
              "    </tr>\n",
              "    <tr>\n",
              "      <th>4</th>\n",
              "      <td>patient 0</td>\n",
              "      <td>Surgery</td>\n",
              "      <td>Dr. Charlie</td>\n",
              "      <td>2017-01-05 13:23:09</td>\n",
              "    </tr>\n",
              "    <tr>\n",
              "      <th>...</th>\n",
              "      <td>...</td>\n",
              "      <td>...</td>\n",
              "      <td>...</td>\n",
              "      <td>...</td>\n",
              "    </tr>\n",
              "    <tr>\n",
              "      <th>685</th>\n",
              "      <td>patient 99</td>\n",
              "      <td>X-ray scan</td>\n",
              "      <td>Team 2</td>\n",
              "      <td>2017-05-25 11:03:27</td>\n",
              "    </tr>\n",
              "    <tr>\n",
              "      <th>686</th>\n",
              "      <td>patient 99</td>\n",
              "      <td>Physical test</td>\n",
              "      <td>Nurse Corey</td>\n",
              "      <td>2017-05-25 11:55:24</td>\n",
              "    </tr>\n",
              "    <tr>\n",
              "      <th>687</th>\n",
              "      <td>patient 99</td>\n",
              "      <td>Second consult</td>\n",
              "      <td>Dr. Anna</td>\n",
              "      <td>2017-05-29 15:12:39</td>\n",
              "    </tr>\n",
              "    <tr>\n",
              "      <th>688</th>\n",
              "      <td>patient 99</td>\n",
              "      <td>Medicine</td>\n",
              "      <td>Pharmacy</td>\n",
              "      <td>2017-05-29 16:17:13</td>\n",
              "    </tr>\n",
              "    <tr>\n",
              "      <th>689</th>\n",
              "      <td>patient 99</td>\n",
              "      <td>Final consult</td>\n",
              "      <td>Dr. Anna</td>\n",
              "      <td>2017-05-31 12:46:43</td>\n",
              "    </tr>\n",
              "  </tbody>\n",
              "</table>\n",
              "<p>690 rows × 4 columns</p>\n",
              "</div>\n",
              "      <button class=\"colab-df-convert\" onclick=\"convertToInteractive('df-fe8ac3f7-216e-4cd2-b058-226bfd8d399b')\"\n",
              "              title=\"Convert this dataframe to an interactive table.\"\n",
              "              style=\"display:none;\">\n",
              "        \n",
              "  <svg xmlns=\"http://www.w3.org/2000/svg\" height=\"24px\"viewBox=\"0 0 24 24\"\n",
              "       width=\"24px\">\n",
              "    <path d=\"M0 0h24v24H0V0z\" fill=\"none\"/>\n",
              "    <path d=\"M18.56 5.44l.94 2.06.94-2.06 2.06-.94-2.06-.94-.94-2.06-.94 2.06-2.06.94zm-11 1L8.5 8.5l.94-2.06 2.06-.94-2.06-.94L8.5 2.5l-.94 2.06-2.06.94zm10 10l.94 2.06.94-2.06 2.06-.94-2.06-.94-.94-2.06-.94 2.06-2.06.94z\"/><path d=\"M17.41 7.96l-1.37-1.37c-.4-.4-.92-.59-1.43-.59-.52 0-1.04.2-1.43.59L10.3 9.45l-7.72 7.72c-.78.78-.78 2.05 0 2.83L4 21.41c.39.39.9.59 1.41.59.51 0 1.02-.2 1.41-.59l7.78-7.78 2.81-2.81c.8-.78.8-2.07 0-2.86zM5.41 20L4 18.59l7.72-7.72 1.47 1.35L5.41 20z\"/>\n",
              "  </svg>\n",
              "      </button>\n",
              "      \n",
              "  <style>\n",
              "    .colab-df-container {\n",
              "      display:flex;\n",
              "      flex-wrap:wrap;\n",
              "      gap: 12px;\n",
              "    }\n",
              "\n",
              "    .colab-df-convert {\n",
              "      background-color: #E8F0FE;\n",
              "      border: none;\n",
              "      border-radius: 50%;\n",
              "      cursor: pointer;\n",
              "      display: none;\n",
              "      fill: #1967D2;\n",
              "      height: 32px;\n",
              "      padding: 0 0 0 0;\n",
              "      width: 32px;\n",
              "    }\n",
              "\n",
              "    .colab-df-convert:hover {\n",
              "      background-color: #E2EBFA;\n",
              "      box-shadow: 0px 1px 2px rgba(60, 64, 67, 0.3), 0px 1px 3px 1px rgba(60, 64, 67, 0.15);\n",
              "      fill: #174EA6;\n",
              "    }\n",
              "\n",
              "    [theme=dark] .colab-df-convert {\n",
              "      background-color: #3B4455;\n",
              "      fill: #D2E3FC;\n",
              "    }\n",
              "\n",
              "    [theme=dark] .colab-df-convert:hover {\n",
              "      background-color: #434B5C;\n",
              "      box-shadow: 0px 1px 3px 1px rgba(0, 0, 0, 0.15);\n",
              "      filter: drop-shadow(0px 1px 2px rgba(0, 0, 0, 0.3));\n",
              "      fill: #FFFFFF;\n",
              "    }\n",
              "  </style>\n",
              "\n",
              "      <script>\n",
              "        const buttonEl =\n",
              "          document.querySelector('#df-fe8ac3f7-216e-4cd2-b058-226bfd8d399b button.colab-df-convert');\n",
              "        buttonEl.style.display =\n",
              "          google.colab.kernel.accessAllowed ? 'block' : 'none';\n",
              "\n",
              "        async function convertToInteractive(key) {\n",
              "          const element = document.querySelector('#df-fe8ac3f7-216e-4cd2-b058-226bfd8d399b');\n",
              "          const dataTable =\n",
              "            await google.colab.kernel.invokeFunction('convertToInteractive',\n",
              "                                                     [key], {});\n",
              "          if (!dataTable) return;\n",
              "\n",
              "          const docLinkHtml = 'Like what you see? Visit the ' +\n",
              "            '<a target=\"_blank\" href=https://colab.research.google.com/notebooks/data_table.ipynb>data table notebook</a>'\n",
              "            + ' to learn more about interactive tables.';\n",
              "          element.innerHTML = '';\n",
              "          dataTable['output_type'] = 'display_data';\n",
              "          await google.colab.output.renderOutput(dataTable, element);\n",
              "          const docLink = document.createElement('div');\n",
              "          docLink.innerHTML = docLinkHtml;\n",
              "          element.appendChild(docLink);\n",
              "        }\n",
              "      </script>\n",
              "    </div>\n",
              "  </div>\n",
              "  "
            ]
          },
          "metadata": {},
          "execution_count": 10
        }
      ]
    },
    {
      "cell_type": "code",
      "source": [
        "# 3. Преобразуем DataFrame в формат журнала Process mining\n",
        "event_log = log_converter.apply(log_csv)\n",
        "\n",
        "# Видим, что теперь тип наших данных EventLog\n",
        "type(event_log)"
      ],
      "metadata": {
        "colab": {
          "base_uri": "https://localhost:8080/",
          "height": 0
        },
        "id": "ZLsO1Q-1RoBn",
        "outputId": "073d97ed-1635-452d-9178-e7651eb6b546"
      },
      "execution_count": 11,
      "outputs": [
        {
          "output_type": "execute_result",
          "data": {
            "text/plain": [
              "pm4py.objects.log.obj.EventLog"
            ]
          },
          "metadata": {},
          "execution_count": 11
        }
      ]
    },
    {
      "cell_type": "code",
      "source": [
        "# Количество различных событий в нашем журнале событий\n",
        "\n",
        "len(log_csv)"
      ],
      "metadata": {
        "colab": {
          "base_uri": "https://localhost:8080/",
          "height": 0
        },
        "id": "bSsDlRLt96HV",
        "outputId": "d1358d30-a297-4b8f-bb54-2b9b50cc7580"
      },
      "execution_count": 24,
      "outputs": [
        {
          "output_type": "execute_result",
          "data": {
            "text/plain": [
              "690"
            ]
          },
          "metadata": {},
          "execution_count": 24
        }
      ]
    },
    {
      "cell_type": "code",
      "source": [
        "# Количество всех кейсов в нашем журнале событий\n",
        "\n",
        "len(event_log)"
      ],
      "metadata": {
        "colab": {
          "base_uri": "https://localhost:8080/",
          "height": 0
        },
        "id": "atuuzUVQ9pXJ",
        "outputId": "2774af22-f375-46c1-934c-45d55f16658f"
      },
      "execution_count": 23,
      "outputs": [
        {
          "output_type": "execute_result",
          "data": {
            "text/plain": [
              "100"
            ]
          },
          "metadata": {},
          "execution_count": 23
        }
      ]
    },
    {
      "cell_type": "markdown",
      "source": [
        "**Важно!** помнить что кейс состоит из набора различных событий, которые относятся к одному пациенту."
      ],
      "metadata": {
        "id": "S7OMfQyQ-Bb-"
      }
    },
    {
      "cell_type": "markdown",
      "source": [
        "Используя библиотеки PM4Py и Pandas можно исследовать имещейся журнал событий с разных сторон.\n",
        "\n",
        "Например, посмотреть частотные признаки по врачам."
      ],
      "metadata": {
        "id": "WNsVmFP89R29"
      }
    },
    {
      "cell_type": "code",
      "source": [
        "from pm4py.algo.filtering.log.attributes import attributes_filter\n",
        "\n",
        "activities = attributes_filter.get_attribute_values(log_csv, \"org:resource\")\n",
        "activities"
      ],
      "metadata": {
        "colab": {
          "base_uri": "https://localhost:8080/",
          "height": 0
        },
        "id": "fb3SwGds9P-V",
        "outputId": "68e50efa-8c58-4967-9e2c-ddaf262dd060"
      },
      "execution_count": 21,
      "outputs": [
        {
          "output_type": "execute_result",
          "data": {
            "text/plain": [
              "{' Dr. Alex': 5,\n",
              " ' Dr. Anna': 158,\n",
              " ' Dr. Ben': 50,\n",
              " ' Dr. Bob': 92,\n",
              " ' Dr. Charlie': 5,\n",
              " ' Dr. Quinn': 3,\n",
              " ' Dr. Rudy': 7,\n",
              " ' Lab': 100,\n",
              " ' Nurse Corey': 43,\n",
              " ' Nurse Jesse': 57,\n",
              " ' Pharmacy': 80,\n",
              " ' Team 1': 40,\n",
              " ' Team 2': 50}"
            ]
          },
          "metadata": {},
          "execution_count": 21
        }
      ]
    },
    {
      "cell_type": "markdown",
      "source": [
        "Также можно посмотреть на различные вариации событий в различных кейсах и насколько они совпадают или различаются.\n",
        "\n",
        "Вариант — это набор кейсов, которые имеют одну и ту же перспективу потока управления, то есть набор кейсов, которые используют одни и те же события в одном и том же порядке. Для исследования различных вариантов существует метод библиотеки PM4PY"
      ],
      "metadata": {
        "id": "Ue0lDF02-51H"
      }
    },
    {
      "cell_type": "code",
      "source": [
        "from pm4py.algo.filtering.log.variants import variants_filter\n",
        "from pm4py.statistics.traces.log import case_statistics\n",
        "\n",
        "variants = variants_filter.get_variants(event_log)\n",
        "print(f\"У нас есть: {len(variants)} различных вариантов путей в нашем журнале событий\")"
      ],
      "metadata": {
        "colab": {
          "base_uri": "https://localhost:8080/",
          "height": 0
        },
        "id": "Kth1lO1e_YKC",
        "outputId": "6a7846a5-357f-4566-d808-beca2b56976c"
      },
      "execution_count": 32,
      "outputs": [
        {
          "output_type": "stream",
          "name": "stdout",
          "text": [
            "У нас есть: 15 различных вариантов путей в нашем журнале событий\n"
          ]
        }
      ]
    },
    {
      "cell_type": "code",
      "source": [
        "# можно посмотреть на рэти различные варианты\n",
        "# 'count' - сколько данные набор событий в такой последовательности встречается в журнале событий\n",
        "# 'variant' - набор этих действий и их последовательность\n",
        "# всего 15 словарей - так как 15 вариантов\n",
        "variants_count = case_statistics.get_variant_statistics(log_csv)\n",
        "\n",
        "variants_count"
      ],
      "metadata": {
        "colab": {
          "base_uri": "https://localhost:8080/",
          "height": 0
        },
        "id": "65bZ0WAt_rwT",
        "outputId": "741fb2d9-6bda-4e84-9412-03ed71802cbb"
      },
      "execution_count": 34,
      "outputs": [
        {
          "output_type": "execute_result",
          "data": {
            "text/plain": [
              "[{'count': 18,\n",
              "  'variant': ' First consult, Blood test, X-ray scan, Physical test, Second consult, Medicine, Final consult'},\n",
              " {'count': 14,\n",
              "  'variant': ' First consult, Blood test, Physical test, X-ray scan, Second consult, Medicine, Final consult'},\n",
              " {'count': 12,\n",
              "  'variant': ' First consult, X-ray scan, Physical test, Blood test, Second consult, Medicine, Final consult'},\n",
              " {'count': 11,\n",
              "  'variant': ' First consult, Physical test, X-ray scan, Blood test, Second consult, Medicine, Final consult'},\n",
              " {'count': 10,\n",
              "  'variant': ' First consult, Physical test, Blood test, X-ray scan, Second consult, Medicine, Final consult'},\n",
              " {'count': 9,\n",
              "  'variant': ' First consult, X-ray scan, Blood test, Physical test, Second consult, Medicine, Final consult'},\n",
              " {'count': 4,\n",
              "  'variant': ' First consult, X-ray scan, Blood test, Physical test, Second consult, Surgery, Final consult'},\n",
              " {'count': 4,\n",
              "  'variant': ' First consult, Physical test, Blood test, X-ray scan, Second consult, Surgery, Final consult'},\n",
              " {'count': 3,\n",
              "  'variant': ' First consult, Physical test, X-ray scan, Blood test, Second consult, Surgery, Final consult'},\n",
              " {'count': 3,\n",
              "  'variant': ' First consult, Physical test, Blood test, Second consult, Medicine, Final consult'},\n",
              " {'count': 3,\n",
              "  'variant': ' First consult, Blood test, Physical test, X-ray scan, Second consult, Surgery, Final consult'},\n",
              " {'count': 3,\n",
              "  'variant': ' First consult, Blood test, Physical test, Second consult, Medicine, Final consult'},\n",
              " {'count': 2,\n",
              "  'variant': ' First consult, X-ray scan, Physical test, Blood test, Second consult, Surgery, Final consult'},\n",
              " {'count': 2,\n",
              "  'variant': ' First consult, Physical test, Blood test, Second consult, Surgery, Final consult'},\n",
              " {'count': 2,\n",
              "  'variant': ' First consult, Blood test, Physical test, Second consult, Surgery, Final consult'}]"
            ]
          },
          "metadata": {},
          "execution_count": 34
        }
      ]
    },
    {
      "cell_type": "markdown",
      "source": [
        "## Построение модели по журналу событий"
      ],
      "metadata": {
        "id": "Bp0Je6lGWILw"
      }
    },
    {
      "cell_type": "markdown",
      "source": [
        "### Alpha Miner\n",
        "\n",
        "**Alpha miner** — один из самых известных алгоритмов интеллектуального анализа процессов и один из первых алгоритмов, способных обнаруживать параллелизм. Алгоритм использует прямую последовательность , причинно -следственные , параллельные и несвязанные отношения между переходами в журнале для обнаружения сети рабочего процесса.\n",
        "\n",
        "http://mlwiki.org/index.php/Alpha_Algorithm"
      ],
      "metadata": {
        "id": "_5aes99CWO9A"
      }
    },
    {
      "cell_type": "code",
      "source": [
        "# Импортируем алгоритм из библиотеки PM4PY\n",
        "from pm4py.algo.discovery.alpha import algorithm as alpha_miner\n",
        "\n",
        "# Создаем алгоритм\n",
        "net, initial_marking, final_marking = alpha_miner.apply(event_log)"
      ],
      "metadata": {
        "id": "zzcedegQWPHK"
      },
      "execution_count": 25,
      "outputs": []
    },
    {
      "cell_type": "markdown",
      "source": [
        "Полученный процесс мы можем отобразить с помощью **Сетей Петри**."
      ],
      "metadata": {
        "id": "cd4Uo2O8Z_RH"
      }
    },
    {
      "cell_type": "code",
      "source": [
        "# Импортируем метод визуализации Сетей Петри из библиотеки PM4Py\n",
        "from pm4py.visualization.petrinet import visualizer as pn_visualizer\n",
        "\n",
        "gviz = pn_visualizer.apply(net, initial_marking, final_marking)\n",
        "\n",
        "pn_visualizer.view(gviz)"
      ],
      "metadata": {
        "colab": {
          "base_uri": "https://localhost:8080/",
          "height": 314
        },
        "id": "Kp-qETboWpyN",
        "outputId": "ea98c15f-b545-4abf-eaf4-f4720c21c14f"
      },
      "execution_count": 26,
      "outputs": [
        {
          "output_type": "stream",
          "name": "stderr",
          "text": [
            "/usr/local/lib/python3.7/dist-packages/ipykernel_launcher.py:4: DeprecatedWarning: apply is deprecated as of 2.2.5 and will be removed in 3.0.0. please use pm4py.visualization.petri_net.algorithm instead\n",
            "  after removing the cwd from sys.path.\n"
          ]
        },
        {
          "output_type": "display_data",
          "data": {
            "text/plain": [
              "<IPython.core.display.Image object>"
            ],
            "image/png": "[encoded data removed]"
          },
          "metadata": {}
        }
      ]
    },
    {
      "cell_type": "markdown",
      "source": [
        "Чтобы получить представление о частоте переходов, можно установить параметр `pn_visualizer.Variants.FREQUENCY` при вызове `pn_visualizer.apply()`."
      ],
      "metadata": {
        "id": "e0D5arptaR-X"
      }
    },
    {
      "cell_type": "code",
      "source": [
        "parameters = {pn_visualizer.Variants.FREQUENCY.value.Parameters.FORMAT: \"png\"}\n",
        "\n",
        "gviz = pn_visualizer.apply(net, initial_marking,\n",
        "                           final_marking,\n",
        "                           parameters=parameters,\n",
        "                           variant=pn_visualizer.Variants.FREQUENCY,\n",
        "                           log=event_log)\n",
        "\n",
        "pn_visualizer.view(gviz)"
      ],
      "metadata": {
        "colab": {
          "base_uri": "https://localhost:8080/",
          "height": 292,
          "referenced_widgets": [
            "b785208d78c34044ad5f2e7fae578f83",
            "fb24bf47cf494cb7bf56e30ce51bd0f4",
            "f7880ffd9ec4430e8e3ec77f0827b847",
            "5c83075e5bdc4ee4a06b384c427343cd",
            "e8b2ccf0df1b4b948e69a3b92c205917",
            "2d40203d5c1e4a1ab4605231d0657c6a",
            "2cab13b62cdd4dc7b421880cf69ad401",
            "fad0d55556b64b98b7dce30179127441",
            "c032ba384c244e5c844667e6a73b2f2e",
            "4ef4e836bf4d486099cd9f3bbfc7dcb7",
            "082447f19c184fce910eab5c20922d1f"
          ]
        },
        "id": "tTm2jOxWaQ_T",
        "outputId": "7d5f89bd-1e1b-4e98-a3c7-ba0352584ecd"
      },
      "execution_count": 27,
      "outputs": [
        {
          "output_type": "stream",
          "name": "stderr",
          "text": [
            "/usr/local/lib/python3.7/dist-packages/ipykernel_launcher.py:7: DeprecatedWarning: apply is deprecated as of 2.2.5 and will be removed in 3.0.0. please use pm4py.visualization.petri_net.algorithm instead\n",
            "  import sys\n"
          ]
        },
        {
          "output_type": "display_data",
          "data": {
            "text/plain": [
              "replaying log with TBR, completed variants ::   0%|          | 0/15 [00:00<?, ?it/s]"
            ],
            "application/vnd.jupyter.widget-view+json": {
              "version_major": 2,
              "version_minor": 0,
              "model_id": "b785208d78c34044ad5f2e7fae578f83"
            }
          },
          "metadata": {}
        },
        {
          "output_type": "display_data",
          "data": {
            "text/plain": [
              "<IPython.core.display.Image object>"
            ],
            "image/png": "[encoded data removed]"
          },
          "metadata": {}
        }
      ]
    },
    {
      "cell_type": "code",
      "source": [
        "# Полученные модели процессов можно сохранить\n",
        "\n",
        "pn_visualizer.save(gviz, \"alpha_miner_lab.png\")"
      ],
      "metadata": {
        "id": "NlHGH8C5axk7"
      },
      "execution_count": 34,
      "outputs": []
    },
    {
      "cell_type": "markdown",
      "source": [
        "Функция `get_transition_performance_with_token_replay` принимает журнал событий, представление сети Петри обнаруженной модели процесса, а также начальные и конечные маркировки, которые мы хотим учитывать в модели. Он возвращает словарь, содержащий показатели производительности (значения словаря), связанные с каждым из Activity (ключи словаря).\n",
        "\n",
        "Словарь содержит как все значения для данного Activity, а также среднее значение, медиану, максимум и минимум по времени на данное действие. Анализируя полученые traces можно посчитать различное время отдельных событий."
      ],
      "metadata": {
        "id": "sUaUMK9rAOhE"
      }
    },
    {
      "cell_type": "code",
      "source": [
        "from pm4py.objects.petri import performance_map\n",
        "# pm4py.objects.petri.performance_map.get_transition_performance_with_token_replay\n",
        "\n",
        "traces = performance_map.get_transition_performance_with_token_replay(event_log,\n",
        "                                                                      net,\n",
        "                                                                      initial_marking,\n",
        "                                                                      final_marking)"
      ],
      "metadata": {
        "colab": {
          "base_uri": "https://localhost:8080/",
          "height": 49,
          "referenced_widgets": [
            "43bef6e435af4366993f0d6f2c3bf475",
            "65e6dd08eb9c4d2b9a94e91775063ee7",
            "75a04c66a5f543f8a27204cb388b1322",
            "93745c8f5dd148f7abcc06c7153fca8f",
            "fae1ee7df10743b7b30d9f02ebc32f82",
            "3d2cbc17ddae4183870e98453063a924",
            "c40e2de9c9254c02856c9bf3e32424e0",
            "010ef7b4b0184bd997af6561f116b19a",
            "ffec9d10b06c4d0e8a3855c1c8eacc2c",
            "63ec047900f14874b31a4692304f33b1",
            "103a57b2b636480fb3c7730f10e4b1a8"
          ]
        },
        "id": "Rj-Ly7u5dISX",
        "outputId": "c5e48398-a340-4ae2-eead-7878da563da5"
      },
      "execution_count": 33,
      "outputs": [
        {
          "output_type": "display_data",
          "data": {
            "text/plain": [
              "replaying log with TBR, completed variants ::   0%|          | 0/15 [00:00<?, ?it/s]"
            ],
            "application/vnd.jupyter.widget-view+json": {
              "version_major": 2,
              "version_minor": 0,
              "model_id": "43bef6e435af4366993f0d6f2c3bf475"
            }
          },
          "metadata": {}
        }
      ]
    },
    {
      "cell_type": "code",
      "source": [
        "import numpy as np\n",
        "import seaborn as sns\n",
        "\n",
        "surgery_time = traces[\" Surgery\"]['all_values']\n",
        "seconds_to_days = 60*60*24\n",
        "seconds_to_hours = 60*60\n",
        "print('**Среднее время операции**: {:.0f} дней'.format(np.mean(surgery_time)/seconds_to_days))\n",
        "print('**Максимальное время операции**: {:.0f} days'.format(np.max(surgery_time)/seconds_to_days))\n",
        "print('**Минимальное время операции**: {:.0f} days, i.e. {:.3f} hours'.format(np.min(surgery_time)/seconds_to_days, np.min(surgery_time)/seconds_to_hours))\n",
        "sns.distplot(surgery_time)"
      ],
      "metadata": {
        "colab": {
          "base_uri": "https://localhost:8080/",
          "height": 400
        },
        "id": "laMdkNOCD7qD",
        "outputId": "500b40ac-6701-4154-d776-9303b20eb69b"
      },
      "execution_count": 57,
      "outputs": [
        {
          "output_type": "stream",
          "name": "stdout",
          "text": [
            "**Среднее время операции**: 4 дней\n",
            "**Максимальное время операции**: 7 days\n",
            "**Минимальное время операции**: 0 days, i.e. 8.469 hours\n"
          ]
        },
        {
          "output_type": "stream",
          "name": "stderr",
          "text": [
            "/usr/local/lib/python3.7/dist-packages/seaborn/distributions.py:2619: FutureWarning: `distplot` is a deprecated function and will be removed in a future version. Please adapt your code to use either `displot` (a figure-level function with similar flexibility) or `histplot` (an axes-level function for histograms).\n",
            "  warnings.warn(msg, FutureWarning)\n"
          ]
        },
        {
          "output_type": "execute_result",
          "data": {
            "text/plain": [
              "<matplotlib.axes._subplots.AxesSubplot at 0x7f8c1f82df10>"
            ]
          },
          "metadata": {},
          "execution_count": 57
        },
        {
          "output_type": "display_data",
          "data": {
            "text/plain": [
              "<Figure size 432x288 with 1 Axes>"
            ],
            "image/png": "[encoded data removed]"
          },
          "metadata": {
            "needs_background": "light"
          }
        }
      ]
    },
    {
      "cell_type": "markdown",
      "source": [
        "## Задания. Изучение журнала событий\n",
        "\n",
        "1. Каково минимальное количество событий в одном случае?\n",
        "2. Какие события являются общими для всех процессов?\n",
        "3. Расчитайте среднее время процесса. Для этого надо вычислить время начала процесса и время оканчания (соответсвенное по первому и последнему событию и создать две новые колонки: начало процесса и окончание).\n",
        "4. Какое минимальное время процессе и какие максимальное?\n",
        "5. Создать в DataFrame новую колонку, в которой будет записано CaseLenght\n",
        "6. Создать в DataFrame новую колонку, в которой будет записано количество событий для данного процесса (NumActions in Case)\n",
        "7. Pation 26 с каким врачом он/она консультировался?"
      ],
      "metadata": {
        "id": "Eqy5YRTLGHzL"
      }
    },
    {
      "cell_type": "markdown",
      "source": [
        "## Задание. Обнаружение модели процессов\n",
        "\n",
        "1. По имеющемуся набору данных постройте модель процессов используя различные алгоритмы обнаружения процесса: inductive miner, heuristics miner, Alpha Miner.\n",
        "Для каждой модели постройте сети Петри, сравните и сделайте вывод о том, какая модель больше всего подходит в данной задаче.\n",
        "2. Какое событие является наиболее ресурсоёмким в данном журнале событий?\n",
        "3. Есть ли врачи или медсестры, которые перегружены работой?\n",
        "4. Какие мероприятия непропорционально отнимают время у некоторых врачей и медсестер? Каково распределение событий среди врачей и медсестер?\n",
        "5. Какие события связаны с узкими местами и какие ресурсы задействованы?\n",
        "\n",
        "Дополнительное задание*:\n",
        "1. Используя библиотеки PM4PY и networkx, создайте граф социальных связей по данному журналу событий, используя метрику SNA.\n",
        "Документация: https://pm4py.fit.fraunhofer.de/documentation#social-network-analysis"
      ],
      "metadata": {
        "id": "fq6kJ2pZbrxo"
      }
    }
  ]
}